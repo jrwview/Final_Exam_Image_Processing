{
 "cells": [
  {
   "cell_type": "code",
   "execution_count": 1,
   "metadata": {},
   "outputs": [],
   "source": [
    "import cv2\n",
    "import numpy as np\n",
    "import os"
   ]
  },
  {
   "cell_type": "code",
   "execution_count": 2,
   "metadata": {},
   "outputs": [
    {
     "name": "stdout",
     "output_type": "stream",
     "text": [
      "c:\\Users\\jrwvi\\OneDrive\\Documents\\GitHub\\New folder/final_camera_params/\n"
     ]
    }
   ],
   "source": [
    "params_dir = os.getcwd()+'/final_camera_params/'\n",
    "print(params_dir)\n",
    "\n",
    "#load camera parameters\n",
    "K = np.load(params_dir+'K.npy')\n",
    "dist = np.load(params_dir+'dist.npy')\n",
    "\n",
    "# Your chessboard size\n",
    "chessboard_size = (3,6)\n",
    "# iterative termination criteria, maximum iterationm and epsilon\n",
    "term_criteria = (cv2.TermCriteria_EPS+ cv2.TermCriteria_MAX_ITER, 30, 0.001)\n",
    "# Defining the world coordinates for 3D points\n",
    "objp = np.zeros((1, chessboard_size[0] * chessboard_size[1], 3), np.float32)\n",
    "objp[0,:,:2] = np.mgrid[0:chessboard_size[0], 0:chessboard_size[1]].T.reshape(-1, 2)\n",
    "# 3D object for visualization\n",
    "axis = np.float32([[3,0,0], [0,3,0], [0,0,-3]]).reshape(-1,3)"
   ]
  },
  {
   "cell_type": "code",
   "execution_count": 3,
   "metadata": {},
   "outputs": [],
   "source": [
    "def draw_axis(img, corners, imgpts) :\n",
    "    corner = tuple(corners[0].ravel().astype(int))\n",
    "    img = cv2.line(img, corner, tuple(imgpts[0].ravel().astype(int)), (255,0,0), 10)\n",
    "    img = cv2.line(img, corner, tuple(imgpts[1].ravel().astype(int)), (0,255,0), 10)\n",
    "    img = cv2.line(img, corner, tuple(imgpts[2].ravel().astype(int)), (0,0,255), 10)\n",
    "    return img"
   ]
  },
  {
   "cell_type": "code",
   "execution_count": 4,
   "metadata": {},
   "outputs": [],
   "source": [
    "def augmented_image(frame, im_src, pts_src, pts_dst):\n",
    "    \n",
    "    # Calculate Homography\n",
    "    h, status = cv2.findHomography(pts_src, pts_dst)\n",
    "\n",
    "    # Warp source image to destination based on homography\n",
    "    warped_image = cv2.warpPerspective(im_src, h, (frame.shape[1],frame.shape[0]))\n",
    "            \n",
    "    # Prepare a mask representing region to copy from the warped image into the original frame.\n",
    "    mask = np.zeros([frame.shape[0], frame.shape[1]], dtype=np.uint8)\n",
    "    cv2.fillConvexPoly(mask, np.int32(pts_dst), (255, 255, 255), cv2.LINE_AA)\n",
    "    im_out = cv2.add(frame, warped_image, mask=cv2.bitwise_not(mask))\n",
    "    im_out = cv2.add(im_out, warped_image)\n",
    "    \n",
    "    return im_out"
   ]
  },
  {
   "cell_type": "code",
   "execution_count": 5,
   "metadata": {},
   "outputs": [],
   "source": [
    "template = cv2.imread('images/Templates/Template-3.png')\n",
    "chessboard = cv2.imread('images/chessboard.png')\n",
    "vid = cv2.VideoCapture('videos/final_exam/Dataset-1/left_output-1.avi')\n",
    "im_src_size = chessboard.shape[:2]\n",
    "src_points = np.float32([[0,0], [im_src_size[1],0],[im_src_size[1], im_src_size[0]] ,[0, im_src_size[0]] ])\n",
    "\n",
    "detector = cv2.SIFT_create()\n",
    "\n",
    "FLANN_INDEX_KDITREE = 1\n",
    "flannParam = dict(algorithm = FLANN_INDEX_KDITREE, tree = 5)\n",
    "search_params = dict(checks = 50)\n",
    "flann = cv2.FlannBasedMatcher(flannParam, search_params)\n",
    "\n",
    "while vid.isOpened() :\n",
    "    ret, frame = vid.read()\n",
    "    ret, new = vid.read()\n",
    "    frame_gray = cv2.cvtColor(frame, cv2.COLOR_BGR2GRAY)\n",
    "    if ret:\n",
    "        template_kpts, template_desc = detector.detectAndCompute(template, None)\n",
    "        query_kpts, query_desc = detector.detectAndCompute(frame_gray, None)\n",
    "        matches = flann.knnMatch(query_desc, template_desc, k=2)\n",
    "        good_matches = list()\n",
    "        for m,n in matches :\n",
    "            if m.distance < 0.75 * n.distance :\n",
    "                good_matches.append(m)\n",
    "        if len(good_matches) > 7 :\n",
    "            src_pts = np.float32([ template_kpts[m.trainIdx].pt for m in good_matches ]).reshape(-1,1,2)\n",
    "            dst_pts = np.float32([ query_kpts[m.queryIdx].pt for m in good_matches ]).reshape(-1,1,2)\n",
    "            H, status = cv2.findHomography(src_pts, dst_pts, cv2.RANSAC, 1.0)\n",
    "            h, w = template.shape[:2]\n",
    "            template_box = np.float32([[0, 0], [0, h-1], [w-1, h-1], [w-1, 0]]).reshape(-1,1,2)\n",
    "            transformed_box = cv2.perspectiveTransform(template_box, H)\n",
    "            cv2.polylines(frame, [np.int32(transformed_box)], True, (0,255,0), 3)\n",
    "\n",
    "            xCenter = (transformed_box[0][0,0] + transformed_box[2][0,0]) / 2\n",
    "            yCenter = (transformed_box[0][0,1] + transformed_box[2][0,1]) / 2\n",
    "            \n",
    "            img = frame.copy()\n",
    "            augmented = augmented_image(img, chessboard, src_points, transformed_box)\n",
    "            \n",
    "            found, corners = cv2.findChessboardCorners(augmented, chessboard_size, None)\n",
    "            if found :\n",
    "                cv2.drawChessboardCorners(augmented, chessboard_size, corners, ret)\n",
    "                corners2 = cv2.cornerSubPix(frame_gray, corners, (11,11), (-1,-1), term_criteria)\n",
    "                ret,rvecs, tvecs = cv2.solvePnP(objp, corners2, K, dist)\n",
    "                tvecsX = tvecs[0,0] * 0.01\n",
    "                tvecsY = tvecs[1,0] * 0.01\n",
    "                tvecsZ = tvecs[2,0] * 0.01\n",
    "                text = \"X: {:.2f} Y: {:.2f} Z: {:.2f}\".format(tvecsX, tvecsY, tvecsZ)\n",
    "                img = cv2.putText(img, text, (int(xCenter), int(yCenter)), cv2.FONT_HERSHEY_COMPLEX, 0.75, (0,0,255), 2)\n",
    "                #axis_imgpts, _ = cv2.projectPoints(axis, rvecs, tvecs, K, dist)\n",
    "                #img = draw_axis(frame,corners,axis_imgpts)\n",
    "                cv2.imshow(\"Result\", img)\n",
    "        if cv2.waitKey(1) & 0xFF == ord('q') :\n",
    "            break\n",
    "    else:\n",
    "        break\n",
    "vid.release()\n",
    "cv2.destroyAllWindows()"
   ]
  }
 ],
 "metadata": {
  "kernelspec": {
   "display_name": "Python 3.10.8 64-bit",
   "language": "python",
   "name": "python3"
  },
  "language_info": {
   "codemirror_mode": {
    "name": "ipython",
    "version": 3
   },
   "file_extension": ".py",
   "mimetype": "text/x-python",
   "name": "python",
   "nbconvert_exporter": "python",
   "pygments_lexer": "ipython3",
   "version": "3.10.8"
  },
  "orig_nbformat": 4,
  "vscode": {
   "interpreter": {
    "hash": "98af99c6f9523c1c3a366dedcebc020f73df8966950e7c632208ad5373bdb26f"
   }
  }
 },
 "nbformat": 4,
 "nbformat_minor": 2
}
